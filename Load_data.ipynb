{
 "cells": [
  {
   "cell_type": "code",
   "execution_count": 28,
   "metadata": {
    "collapsed": true
   },
   "outputs": [
    {
     "data": {
      "text/plain": [
       "'module://ipykernel.pylab.backend_inline'"
      ]
     },
     "execution_count": 28,
     "metadata": {},
     "output_type": "execute_result"
    }
   ],
   "source": [
    "from __future__ import division, print_function\n",
    "%matplotlib inline\n",
    "import matplotlib.pyplot as plt\n",
    "import matplotlib\n",
    "import numpy as np\n",
    "matplotlib.get_backend()"
   ]
  },
  {
   "cell_type": "code",
   "execution_count": 2,
   "metadata": {
    "collapsed": false
   },
   "outputs": [],
   "source": [
    "from astropy.io import fits"
   ]
  },
  {
   "cell_type": "code",
   "execution_count": 3,
   "metadata": {
    "collapsed": false
   },
   "outputs": [],
   "source": [
    "import corner"
   ]
  },
  {
   "cell_type": "code",
   "execution_count": 4,
   "metadata": {
    "collapsed": true
   },
   "outputs": [],
   "source": [
    "base_path = \"./data/\""
   ]
  },
  {
   "cell_type": "markdown",
   "metadata": {},
   "source": [
    "\n",
    "\n",
    "# Load simulated image"
   ]
  },
  {
   "cell_type": "code",
   "execution_count": 5,
   "metadata": {
    "collapsed": false
   },
   "outputs": [
    {
     "name": "stdout",
     "output_type": "stream",
     "text": [
      "(10000, 10000)\n"
     ]
    }
   ],
   "source": [
    "# Load fits file containing image data\n",
    "image = fits.getdata(base_path + \"0.fits\")\n",
    "print(image.shape) # each image contains 10,000x10,000 pixels"
   ]
  },
  {
   "cell_type": "code",
   "execution_count": 6,
   "metadata": {
    "collapsed": false
   },
   "outputs": [
    {
     "name": "stdout",
     "output_type": "stream",
     "text": [
      "min/max 0.0 255.0\n"
     ]
    }
   ],
   "source": [
    "IMAGE_SIZE = 2000 # Restrict size to 2000 x 2000 pixels\n",
    "\n",
    "# Normalize image between 0 and 255\n",
    "X = image[:IMAGE_SIZE, :IMAGE_SIZE]\n",
    "X = X-np.min(X)\n",
    "X = X/np.max(X)*255\n",
    "print('min/max', np.min(X), np.max(X))"
   ]
  },
  {
   "cell_type": "code",
   "execution_count": 8,
   "metadata": {
    "collapsed": false
   },
   "outputs": [
    {
     "ename": "NameError",
     "evalue": "name 'A' is not defined",
     "traceback": [
      "\u001b[0;31m---------------------------------------------------------------------------\u001b[0m",
      "\u001b[0;31mNameError\u001b[0m                                 Traceback (most recent call last)",
      "\u001b[0;32m<ipython-input-8-5211ce3ba588>\u001b[0m in \u001b[0;36m<module>\u001b[0;34m()\u001b[0m\n\u001b[1;32m      1\u001b[0m \u001b[0;31m# Check range of the data. Most pixel values are between 0 and 1\u001b[0m\u001b[0;34m\u001b[0m\u001b[0;34m\u001b[0m\u001b[0m\n\u001b[0;32m----> 2\u001b[0;31m \u001b[0mA1\u001b[0m \u001b[0;34m=\u001b[0m \u001b[0;34m[\u001b[0m\u001b[0mi\u001b[0m \u001b[0;32mfor\u001b[0m \u001b[0mi\u001b[0m \u001b[0;32min\u001b[0m \u001b[0mA\u001b[0m \u001b[0;32mif\u001b[0m \u001b[0mi\u001b[0m \u001b[0;34m>\u001b[0m \u001b[0;36m1\u001b[0m\u001b[0;34m]\u001b[0m\u001b[0;34m\u001b[0m\u001b[0m\n\u001b[0m\u001b[1;32m      3\u001b[0m \u001b[0mprint\u001b[0m\u001b[0;34m(\u001b[0m\u001b[0mlen\u001b[0m\u001b[0;34m(\u001b[0m\u001b[0mA1\u001b[0m\u001b[0;34m)\u001b[0m\u001b[0;34m,\u001b[0m \u001b[0mlen\u001b[0m\u001b[0;34m(\u001b[0m\u001b[0mA\u001b[0m\u001b[0;34m)\u001b[0m\u001b[0;34m)\u001b[0m\u001b[0;34m\u001b[0m\u001b[0m\n",
      "\u001b[0;31mNameError\u001b[0m: name 'A' is not defined"
     ],
     "output_type": "error"
    }
   ],
   "source": [
    "# Check range of the data. Most pixel values are between 0 and 1\n",
    "A1 = [i for i in A if i > 1]\n",
    "print(len(A1), len(A))"
   ]
  },
  {
   "cell_type": "code",
   "execution_count": 8,
   "metadata": {
    "collapsed": false
   },
   "outputs": [
    {
     "name": "stdout",
     "output_type": "stream",
     "text": [
      "0.0 50.0\n"
     ]
    }
   ],
   "source": [
    "# Cap values to MAX_VALUE\n",
    "MAX_VALUE = 50\n",
    "\n",
    "def indices_2d(a, func):\n",
    "    return [(ix,iy) for ix, row in enumerate(a) for iy, i in enumerate(row) if func(i)]\n",
    "\n",
    "inds = indices_2d(X, lambda x: x > 2)\n",
    "for i,j in inds:\n",
    "    X[i, j] = MAX_VALUE\n",
    "print(np.min(X), np.max(X))"
   ]
  },
  {
   "cell_type": "code",
   "execution_count": 7,
   "metadata": {
    "collapsed": false
   },
   "outputs": [
    {
     "data": {
      "image/png": "[encoded data removed]",
      "text/plain": [
       "<matplotlib.figure.Figure at 0x17ce5e48>"
      ]
     },
     "metadata": {},
     "output_type": "display_data"
    },
    {
     "data": {
      "image/png": "[encoded data removed]",
      "text/plain": [
       "<matplotlib.figure.Figure at 0x19fc6f98>"
      ]
     },
     "metadata": {},
     "output_type": "display_data"
    }
   ],
   "source": [
    "# Plot two histograms, one for values between 0 and 1, and another one from 1 to 255.\n",
    "plt.hist(X.ravel(), bins=256, range=(0.0, 1.0), fc='k', ec='k')\n",
    "plt.show()\n",
    "plt.figure()\n",
    "plt.hist(X.ravel(), bins=256, range=(1.0, 255.0), fc='k', ec='k')\n",
    "plt.show()"
   ]
  },
  {
   "cell_type": "code",
   "execution_count": 7,
   "metadata": {
    "collapsed": false
   },
   "outputs": [
    {
     "data": {
      "text/plain": [
       "<matplotlib.image.AxesImage at 0x19c48c50>"
      ]
     },
     "execution_count": 7,
     "metadata": {},
     "output_type": "execute_result"
    }
   ],
   "source": [
    "# Display image\n",
    "fig, ax = plt.subplots(figsize=(12,12))\n",
    "ax.imshow(X, cmap=\"cubehelix\", norm=matplotlib.colors.LogNorm())\n",
    "#ax.imshow(X, cmap=\"plasma\")"
   ]
  },
  {
   "cell_type": "markdown",
   "metadata": {},
   "source": [
    "# Load corresponding groundtruth image"
   ]
  },
  {
   "cell_type": "code",
   "execution_count": 60,
   "metadata": {
    "collapsed": true
   },
   "outputs": [
    {
     "name": "stdout",
     "output_type": "stream",
     "text": [
      "(10000, 10000)\n0.0\n"
     ]
    }
   ],
   "source": [
    "#gt = fits.getdata(base_path + \"0.star_seg.fits\") # Load groundtruth for stars\n",
    "gt2 = fits.getdata(base_path + \"0.gal_seg.fits\") # Load groundtruth for galaxies\n",
    "\n",
    "#gt3 = fits.getdata(base_path + \"0.comb_seg.fits\") # Load groundtruth for stars and galaxies (not just union of the two)\n",
    "\n",
    "print(gt.shape) # should be 10,000x10,000\n",
    "print(np.min(gt))\n",
    "fig4, ax4 = plt.subplots(figsize=(12,12))\n",
    "ax4.imshow(X[:IMAGE_SIZE, :IMAGE_SIZE], cmap=\"cubehelix\", norm=matplotlib.colors.LogNorm())\n",
    "plt.show()"
   ]
  },
  {
   "cell_type": "code",
   "execution_count": 62,
   "metadata": {
    "collapsed": false
   },
   "outputs": [
    {
     "name": "stdout",
     "output_type": "stream",
     "text": [
      "[[ 0.  0.  0. ...,  0.  0.  0.]\n [ 0.  0.  0. ...,  0.  0.  0.]\n [ 0.  0.  0. ...,  0.  0.  0.]\n ..., \n [ 0.  0.  0. ...,  0.  0.  0.]\n [ 0.  0.  0. ...,  0.  0.  0.]\n [ 0.  0.  0. ...,  0.  0.  0.]]\n<class 'numpy.ndarray'>\n(2000, 2000)\n"
     ]
    },
    {
     "data": {
      "image/png": "[encoded data removed]",
      "text/plain": [
       "<matplotlib.figure.Figure at 0x1be42080>"
      ]
     },
     "metadata": {},
     "output_type": "display_data"
    }
   ],
   "source": [
    "blend = 0*(1-gt[0:2000,0:2000])+X\n",
    "print(gt[0:100,0:100])\n",
    "print(type(blend))\n",
    "print(blend.shape)\n",
    "fig3,ax3 = plt.subplots(figsize=(12,12))\n",
    "ax3.imshow(blend[:IMAGE_SIZE, :IMAGE_SIZE], cmap=\"plasma\")\n",
    "#ax3.imshow(blend[:IMAGE_SIZE, :IMAGE_SIZE], cmap=\"cubehelix\", norm=matplotlib.colors.LogNorm())\n",
    "plt.show()\n"
   ]
  },
  {
   "cell_type": "code",
   "execution_count": 63,
   "metadata": {
    "collapsed": false
   },
   "outputs": [
    {
     "data": {
      "image/png": "[encoded data removed]",
      "text/plain": [
       "<matplotlib.figure.Figure at 0x1ce04c50>"
      ]
     },
     "metadata": {},
     "output_type": "display_data"
    }
   ],
   "source": [
    "from PIL import Image\n",
    "PIXEL_DEPTH = 255\n",
    "\n",
    "def img_float_to_uint8(img):\n",
    "    rimg = img - np.min(img)\n",
    "    rimg = (rimg / np.max(rimg) * PIXEL_DEPTH).round().astype(np.uint8)\n",
    "    return rimg\n",
    "\n",
    "def make_img_overlay(img, predicted_img):\n",
    "    w = img.shape[0]\n",
    "    h = img.shape[1]\n",
    "    color_mask = np.zeros((w, h, 3), dtype=np.uint8)\n",
    "    color_mask[:,:,0] = predicted_img*PIXEL_DEPTH\n",
    "\n",
    "    img8 = img_float_to_uint8(img)\n",
    "    #background = Image.fromarray(img8, 'RGB').convert(\"RGBA\")\n",
    "    #overlay = Image.fromarray(color_mask, 'RGB').convert(\"RGBA\")\n",
    "    background = Image.fromarray(img8).convert(\"RGBA\")\n",
    "    overlay = Image.fromarray(color_mask).convert(\"RGBA\")    \n",
    "    new_img = Image.blend(background, overlay, 0.3)\n",
    "    return new_img\n",
    "\n",
    "Xo = make_img_overlay(X, gt[:IMAGE_SIZE, :IMAGE_SIZE])\n",
    "\n",
    "fig, ax = plt.subplots(figsize=(12,12))\n",
    "ax.imshow(Xo, cmap=\"plasma\", norm=matplotlib.colors.LogNorm())\n",
    "plt.show()"
   ]
  },
  {
   "cell_type": "code",
   "execution_count": 19,
   "metadata": {
    "collapsed": false
   },
   "outputs": [
    {
     "name": "stdout",
     "output_type": "stream",
     "text": [
      "<class 'numpy.ndarray'>\n",
      "(10000, 10000)\n"
     ]
    }
   ],
   "source": [
    "# You can save the files to a numpy format if you want, just do\n",
    "for i in range(1,2):\n",
    "    image = fits.getdata(base_path + str(i) + \".fits\")\n",
    "    np.save(str(i) + \".npy\", image)"
   ]
  },
  {
   "cell_type": "markdown",
   "metadata": {},
   "source": [
    "# Catalog"
   ]
  },
  {
   "cell_type": "code",
   "execution_count": 7,
   "metadata": {
    "collapsed": true
   },
   "outputs": [],
   "source": [
    "def plot_catalogs(star_data, galaxy_data):\n",
    "    fig=corner.corner(star_data, color=\"blue\")\n",
    "    fig=corner.corner(galaxy_data, color=\"red\", labels=(\"Magnitude\", \"Size\"), extents=[(14, 26), (0,6)], fig=fig)"
   ]
  },
  {
   "cell_type": "markdown",
   "metadata": {},
   "source": [
    "## Simulated catalogs (\"thruth\")"
   ]
  },
  {
   "cell_type": "code",
   "execution_count": 8,
   "metadata": {
    "collapsed": false
   },
   "outputs": [],
   "source": [
    "star_catalog = fits.getdata(base_path + \"1.star.cat\", ext=0)"
   ]
  },
  {
   "cell_type": "code",
   "execution_count": 9,
   "metadata": {
    "collapsed": false
   },
   "outputs": [
    {
     "data": {
      "text/plain": [
       "ColDefs(\n",
       "    name = 'id'; format = 'K'\n",
       "    name = 'x'; format = 'E'\n",
       "    name = 'y'; format = 'E'\n",
       "    name = 'mag'; format = 'E'\n",
       "    name = 'nphot'; format = 'K'\n",
       "    name = 'psf_r50'; format = 'E'\n",
       "    name = 'psf_e1'; format = 'E'\n",
       "    name = 'psf_e2'; format = 'E'\n",
       "    name = 'psf_beta'; format = 'E'\n",
       "    name = 'psf_fwhm'; format = 'E'\n",
       ")"
      ]
     },
     "execution_count": 9,
     "metadata": {},
     "output_type": "execute_result"
    }
   ],
   "source": [
    "star_catalog.columns"
   ]
  },
  {
   "cell_type": "code",
   "execution_count": 10,
   "metadata": {
    "collapsed": true
   },
   "outputs": [],
   "source": [
    "star_data = np.vstack((star_catalog[\"mag\"], star_catalog[\"psf_r50\"])).T"
   ]
  },
  {
   "cell_type": "code",
   "execution_count": 11,
   "metadata": {
    "collapsed": true
   },
   "outputs": [],
   "source": [
    "galaxy_catalog = fits.getdata(base_path + \"1.gal.cat\")"
   ]
  },
  {
   "cell_type": "code",
   "execution_count": 12,
   "metadata": {
    "collapsed": false
   },
   "outputs": [
    {
     "data": {
      "text/plain": [
       "ColDefs(\n",
       "    name = 'id'; format = 'K'\n",
       "    name = 'x'; format = 'E'\n",
       "    name = 'y'; format = 'E'\n",
       "    name = 'z'; format = 'E'\n",
       "    name = 'sersic_n'; format = 'E'\n",
       "    name = 'nphot'; format = 'K'\n",
       "    name = 'int_r50'; format = 'E'\n",
       "    name = 'int_mag'; format = 'E'\n",
       "    name = 'int_e1'; format = 'E'\n",
       "    name = 'int_e2'; format = 'E'\n",
       "    name = 'gamma1'; format = 'E'\n",
       "    name = 'gamma2'; format = 'E'\n",
       "    name = 'e1'; format = 'E'\n",
       "    name = 'e2'; format = 'E'\n",
       "    name = 'mag'; format = 'E'\n",
       "    name = 'r50'; format = 'E'\n",
       "    name = 'kappa'; format = 'E'\n",
       "    name = 'psf_r50'; format = 'E'\n",
       "    name = 'psf_e1'; format = 'E'\n",
       "    name = 'psf_e2'; format = 'E'\n",
       "    name = 'psf_beta'; format = 'E'\n",
       "    name = 'psf_fwhm'; format = 'E'\n",
       ")"
      ]
     },
     "execution_count": 12,
     "metadata": {},
     "output_type": "execute_result"
    }
   ],
   "source": [
    "galaxy_catalog.columns"
   ]
  }
 ],
 "metadata": {
  "kernelspec": {
   "display_name": "Python 3",
   "language": "python",
   "name": "python3"
  },
  "language_info": {
   "codemirror_mode": {
    "name": "ipython",
    "version": 3
   },
   "file_extension": ".py",
   "mimetype": "text/x-python",
   "name": "python",
   "nbconvert_exporter": "python",
   "pygments_lexer": "ipython3",
   "version": "3.4.3"
  }
 },
 "nbformat": 4,
 "nbformat_minor": 0
}
